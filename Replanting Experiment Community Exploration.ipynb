{
 "cells": [
  {
   "cell_type": "markdown",
   "metadata": {},
   "source": [
    "# An interactive lab notebook for exploring microbiome data\n",
    "### Example data of soil bacterial community from a wetland restoration site. Metadata includes date, treatment, and block.\n",
    "\n",
    "#### dependencies:\n",
    "  * phylogenetic methods use [Biopython](http://biopython.org/wiki/Getting_Started)\n",
    "\n",
    "\n",
    "####  files needed are:\n",
    "  * A tree file, such as from FastTree\n",
    "  * An OTU observation matrix, such as from RDP Classifier, in biom format\n",
    "  * Sample metadata, which is *crucial* and you may have to create yourself for your own data\n",
    "\n",
    "\n",
    "#### output will be\n",
    "  * A bar plot of alpha diversity (still in beta..)\n",
    "  * Within and between group diversity plots\n",
    "  * PCoA plots on the group of your choice (from metadata file)\n",
    "  * ANOSIM p-values based on grouping. Results!!!\n",
    "\n",
    "#### See [this website](http://readiab.org/book/0.1.1/3/1) for useful information on microbiome analysis\n",
    "\n",
    "#### Use [this flow chart](http://mb3is.megx.net/gustame) to help determine the propper statistical analysis for your data\n",
    "\n",
    "#### To change colors in the figures as you like, see [this guide](http://matplotlib.org/api/pyplot_api.html)"
   ]
  },
  {
   "cell_type": "markdown",
   "metadata": {},
   "source": [
    "### Table of Contents\n",
    "\n",
    "* [Rarefaction](#rarefaction)\n",
    "\n",
    "    * **TODO**: add rarefaction script from [R::vegan](https://cran.r-project.org/web/…) using [magic](http://nbviewer.jupyter.org/github/ipython/ipython/blob/1.x/examples/notebooks/Cell%20Magics.ipynb), see [this](https://web.stanford.edu/class/bios221/labs/phyloseq/lab_phyloseq.html) tutorial\n",
    "\n",
    "\n",
    "* [Producing a tree](#tree)\n",
    "    * With scikit-bio\n",
    "    * With Biopython\n",
    "\n",
    "\n",
    "* [Alpha Diversity](#alphadiversity)\n",
    "\n",
    "    * observed species\n",
    "    * phylogenetic diversity\n",
    "\n",
    "  \n",
    "* [Beta Diversity - distance matricies](#betadiversity)\n",
    "     * Bray Curtis\n",
    "     * Phylogenetic\n",
    "\n",
    "\n",
    "* [PCoA](#pcoa)\n",
    "\n",
    "* [Statistics](#stats)\n",
    "\n"
   ]
  },
  {
   "cell_type": "code",
   "execution_count": 13,
   "metadata": {
    "collapsed": false
   },
   "outputs": [],
   "source": [
    "# imports\n",
    "from skbio.diversity import *\n",
    "import pandas as pd\n",
    "import numpy as np\n",
    "from IPython.display import display\n",
    "from ipywidgets import widgets\n",
    "import matplotlib.pyplot as plt\n",
    "import os"
   ]
  },
  {
   "cell_type": "code",
   "execution_count": 3,
   "metadata": {
    "collapsed": true
   },
   "outputs": [],
   "source": [
    "# uploads\n",
    "\n",
    "sample_md_f = '/Users/gracecagle/Dropbox/explore-microbiome/my_data/replanting-sample-md.txt'\n",
    "otu_table_f = '/Users/gracecagle/Dropbox/explore-microbiome/my_data/replanting_otu_table.txt'\n",
    "abundance_f = '/Users/gracecagle/Dropbox/explore-microbiome/my_data/replanting-abundance.txt'\n",
    "tree_f = '/Users/gracecagle/Dropbox/explore-microbiome/my_data/replanting-tree.nwk'"
   ]
  },
  {
   "cell_type": "code",
   "execution_count": 4,
   "metadata": {
    "collapsed": false
   },
   "outputs": [],
   "source": [
    "# variables\n",
    "sample_md = pd.read_csv(sample_md_f, sep='\\t', index_col=0,  names = [\"ID\", \"Date\", \"treatment\", \"block\"])\n",
    "otu_table = pd.read_csv(otu_table_f, sep='\\t', index_col=0)\n",
    "otu_ids = pd.Index.tolist(otu_table.index)\n",
    "ids = list(otu_table)\n",
    "abundance = np.loadtxt(abundance_f, dtype=int)\n",
    "# todo: make abundance from OTU table instead of separate file for clarity"
   ]
  },
  {
   "cell_type": "markdown",
   "metadata": {
    "collapsed": true
   },
   "source": [
    "________\n",
    "### <a name=\"rarefaction\"></a> Rarefaction"
   ]
  },
  {
   "cell_type": "markdown",
   "metadata": {},
   "source": [
    "* add rarefaction, probably using %R"
   ]
  },
  {
   "cell_type": "markdown",
   "metadata": {
    "collapsed": false
   },
   "source": [
    "_____\n",
    "### <a name=\"tree\"></a> Producing a rooted tree - required for phylogenetic analysis"
   ]
  },
  {
   "cell_type": "markdown",
   "metadata": {},
   "source": [
    "##### Producing a tree with scikit bio\n",
    "* error: OTUs are not matching tip names, perhaps IO issue"
   ]
  },
  {
   "cell_type": "code",
   "execution_count": 61,
   "metadata": {
    "collapsed": false
   },
   "outputs": [],
   "source": [
    "skb_tree = skbio.io.read(tree_f, format='newick', into=TreeNode)\n",
    "skb_tree_rooted = skb_tree.root_at_midpoint()"
   ]
  },
  {
   "cell_type": "markdown",
   "metadata": {},
   "source": [
    "##### Producing a tree with Biopython\n",
    "  * trying due to OTU matching issue with scikit bio "
   ]
  },
  {
   "cell_type": "code",
   "execution_count": 60,
   "metadata": {
    "collapsed": false
   },
   "outputs": [],
   "source": [
    "# import Bio\n",
    "# from Bio import Phylo\n",
    "# import pylab\n",
    "# phylo_tree = Phylo.read('/Users/gracecagle/Dropbox/explore-microbiome/my_data/replanting-tree.nwk', 'newick')\n",
    "# Phylo.draw_ascii(phylo_tree)\n",
    "# rooted_tree = phylo_tree.root_with_outgroup('OTU_87581')\n",
    "# Phylo.draw_graphviz()\n",
    "# pylab.show()"
   ]
  },
  {
   "cell_type": "markdown",
   "metadata": {},
   "source": [
    "##### Calculating pylogenetic diversity with PyCogent \n",
    "   * try if compatibility issues with skb continue"
   ]
  },
  {
   "cell_type": "code",
   "execution_count": 46,
   "metadata": {
    "collapsed": false
   },
   "outputs": [],
   "source": [
    "# from cogent.maths.unifrac.fast_unifrac import PD_whole_tree\n",
    "# from cogent.parse.tree import DndParser\n",
    "# from cogent.maths.unifrac.fast_tree import UniFracTreeNode\n",
    "# tree_in = open(tree_f)\n",
    "# pycogent_tree = DndParser(tree_in, UniFracTreeNode)"
   ]
  },
  {
   "cell_type": "markdown",
   "metadata": {},
   "source": [
    "______\n",
    "### <a name=\"alphadiversity\"></a>Alpha Diversity"
   ]
  },
  {
   "cell_type": "markdown",
   "metadata": {},
   "source": [
    "#### non-pylogenetic metrics do not require a tree file\n",
    "* appropriate selections include observed otus, simpson, shannon, chao1, pielou"
   ]
  },
  {
   "cell_type": "code",
   "execution_count": 57,
   "metadata": {
    "collapsed": false
   },
   "outputs": [],
   "source": [
    "# drop-down menu\n",
    "a_options = get_alpha_diversity_metrics()\n",
    "a_display = widgets.Dropdown(options=a_options)\n",
    "display(a_display, description='Select an alpha diversity metric')\n",
    "\n",
    "groups = list(sample_md)\n",
    "select_group = widgets.Dropdown(options=groups)\n",
    "display(select_group, description='Select a group')"
   ]
  },
  {
   "cell_type": "code",
   "execution_count": 59,
   "metadata": {
    "collapsed": false
   },
   "outputs": [
    {
     "data": {
      "text/plain": [
       "OTU_0      NaN\n",
       "OTU_1      NaN\n",
       "OTU_10       1\n",
       "OTU_100    NaN\n",
       "OTU_1000     1\n",
       "dtype: float64"
      ]
     },
     "execution_count": 59,
     "metadata": {},
     "output_type": "execute_result"
    }
   ],
   "source": [
    "adiv = skbio.diversity.alpha_diversity(a_display.value, abundance, ids=otu_ids)\n",
    "adiv.head()\n",
    "# a_fig = sample_md.boxplot(column=)"
   ]
  },
  {
   "cell_type": "markdown",
   "metadata": {},
   "source": [
    "#### pylogenetic metrics, use Newick tree file"
   ]
  },
  {
   "cell_type": "code",
   "execution_count": 77,
   "metadata": {
    "collapsed": false
   },
   "outputs": [],
   "source": [
    "# fig = sample_md.boxplot(column=a_display, by='')"
   ]
  },
  {
   "cell_type": "markdown",
   "metadata": {},
   "source": [
    "_____\n",
    "### <a name=\"betadiversity\"></a>Beta Diversity"
   ]
  },
  {
   "cell_type": "markdown",
   "metadata": {},
   "source": [
    "#### Phylogenetic metrics"
   ]
  },
  {
   "cell_type": "markdown",
   "metadata": {},
   "source": [
    "* This does not currently work due to same tree format issue"
   ]
  },
  {
   "cell_type": "code",
   "execution_count": 45,
   "metadata": {
    "collapsed": false,
    "scrolled": false
   },
   "outputs": [],
   "source": [
    "# wu_dm = beta_diversity(\"weighted_unifrac\", abundance.T, ids=ids, tree=skb_tree_rooted,\n",
    "#                     otu_ids=otu_ids)"
   ]
  },
  {
   "cell_type": "markdown",
   "metadata": {},
   "source": [
    "#### Non-phylogenetic metrics"
   ]
  },
  {
   "cell_type": "code",
   "execution_count": 19,
   "metadata": {
    "collapsed": false
   },
   "outputs": [
    {
     "name": "stdout",
     "output_type": "stream",
     "text": [
      "90x90 distance matrix\n",
      "IDs:\n",
      "'b1_Jp_Nov14', 'b1_Jp_May15', 'b1_Jp_Jun14', 'b1_Jm_Nov14', 'b1_Jm_May15', ...\n",
      "Data:\n",
      "[[ 0.          0.65532405  0.6209821  ...,  0.70264894  0.61051199\n",
      "   0.58035808]\n",
      " [ 0.65532405  0.          0.65961679 ...,  0.72055282  0.621715\n",
      "   0.62611245]\n",
      " [ 0.6209821   0.65961679  0.         ...,  0.66202492  0.61721286\n",
      "   0.59815726]\n",
      " ..., \n",
      " [ 0.70264894  0.72055282  0.66202492 ...,  0.          0.70966391\n",
      "   0.68160402]\n",
      " [ 0.61051199  0.621715    0.61721286 ...,  0.70966391  0.          0.55878966]\n",
      " [ 0.58035808  0.62611245  0.59815726 ...,  0.68160402  0.55878966  0.        ]]\n"
     ]
    }
   ],
   "source": [
    "bc_dm = beta_diversity(\"braycurtis\", abundance.T, ids)\n",
    "print(bc_dm)"
   ]
  },
  {
   "cell_type": "code",
   "execution_count": 17,
   "metadata": {
    "collapsed": true
   },
   "outputs": [],
   "source": [
    "# alternative beta diversity metrics\n",
    "# from scipy.spatial.distance import euclidean, pdist"
   ]
  },
  {
   "cell_type": "markdown",
   "metadata": {},
   "source": [
    "______\n",
    "### <a name=\"pcoa\"></a>PCoA - select sample grouping below"
   ]
  },
  {
   "cell_type": "code",
   "execution_count": 68,
   "metadata": {
    "collapsed": false
   },
   "outputs": [],
   "source": [
    "b_options = list(sample_md)\n",
    "b_display = widgets.Dropdown(options=b_options, description = \"group samples by\")\n",
    "display(b_display)"
   ]
  },
  {
   "cell_type": "code",
   "execution_count": 66,
   "metadata": {
    "collapsed": false
   },
   "outputs": [
    {
     "data": {
      "image/png": "[encoded data removed]",
      "text/plain": [
       "<matplotlib.figure.Figure at 0x12ede46a0>"
      ]
     },
     "metadata": {},
     "output_type": "display_data"
    }
   ],
   "source": [
    "from skbio.stats.ordination import pcoa\n",
    "pcoa_results = pcoa(bc_dm)\n",
    "%matplotlib inline\n",
    "fig = pcoa_results.plot(df=sample_md,\n",
    "                       column = b_display.value,\n",
    "                       cmap=\"Blues\",\n",
    "                       s=100)"
   ]
  },
  {
   "cell_type": "markdown",
   "metadata": {},
   "source": [
    "_____\n",
    "### <a name=\"stats\"></a> Stats - ANOSIM\n",
    "* p-value is calculated from above grouping selection"
   ]
  },
  {
   "cell_type": "code",
   "execution_count": 67,
   "metadata": {
    "collapsed": false
   },
   "outputs": [
    {
     "data": {
      "text/plain": [
       "method name                 ANOSIM\n",
       "test statistic name              R\n",
       "sample size                     90\n",
       "number of groups                 3\n",
       "test statistic            0.106175\n",
       "p-value                      0.001\n",
       "number of permutations         999\n",
       "Name: ANOSIM results, dtype: object"
      ]
     },
     "metadata": {},
     "output_type": "display_data"
    }
   ],
   "source": [
    "from skbio.stats.distance import anosim\n",
    "results = anosim(bc_dm, sample_md, column=b_display.value, permutations=999)\n",
    "results['test statistic']\n",
    "\n",
    "display(results)"
   ]
  },
  {
   "cell_type": "code",
   "execution_count": 74,
   "metadata": {
    "collapsed": false
   },
   "outputs": [
    {
     "name": "stdout",
     "output_type": "stream",
     "text": [
      "File saved to:  /Users/gracecagle\n"
     ]
    },
    {
     "name": "stderr",
     "output_type": "stream",
     "text": [
      "//anaconda/lib/python3.5/site-packages/matplotlib/figure.py:397: UserWarning: matplotlib is currently using a non-GUI backend, so cannot show the figure\n",
      "  \"matplotlib is currently using a non-GUI backend, \"\n"
     ]
    }
   ],
   "source": [
    "# save figure\n",
    "fig.savefig('sample.png')\n",
    "print('File saved to: ', os.getcwd())\n",
    "fig.show()"
   ]
  },
  {
   "cell_type": "markdown",
   "metadata": {},
   "source": [
    "_______\n",
    "### Cluster by grouping"
   ]
  },
  {
   "cell_type": "code",
   "execution_count": 71,
   "metadata": {
    "collapsed": false
   },
   "outputs": [],
   "source": [
    "# from scipy.cluster.hierarchy import average, dendrogram\n",
    "# lm = average(dm.condensed_form())"
   ]
  }
 ],
 "metadata": {
  "kernelspec": {
   "display_name": "Python 3",
   "language": "python",
   "name": "python3"
  },
  "language_info": {
   "codemirror_mode": {
    "name": "ipython",
    "version": 3
   },
   "file_extension": ".py",
   "mimetype": "text/x-python",
   "name": "python",
   "nbconvert_exporter": "python",
   "pygments_lexer": "ipython3",
   "version": "3.5.1"
  }
 },
 "nbformat": 4,
 "nbformat_minor": 0
}
